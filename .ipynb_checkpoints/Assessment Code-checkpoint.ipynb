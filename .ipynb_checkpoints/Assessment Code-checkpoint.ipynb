{
 "cells": [
  {
   "cell_type": "code",
   "execution_count": 60,
   "id": "71ca9e00",
   "metadata": {},
   "outputs": [],
   "source": [
    "import torch\n",
    "import matplotlib.pyplot as plt\n",
    "from torch import nn\n",
    "from torchvision import datasets\n",
    "from torch.utils.data import DataLoader\n",
    "from torch.nn import functional as F\n",
    "from torchvision import transforms"
   ]
  },
  {
   "cell_type": "code",
   "execution_count": 125,
   "id": "fbbf0a50",
   "metadata": {},
   "outputs": [],
   "source": [
    "transform = transforms.Compose([transforms.Resize((512,512)),transforms.ToTensor()])"
   ]
  },
  {
   "cell_type": "code",
   "execution_count": 126,
   "id": "e369558b",
   "metadata": {
    "scrolled": true
   },
   "outputs": [],
   "source": [
    "training_data = datasets.Flowers102(root = 'data', split = 'train', download = True, transform = transform)\n",
    "testing_data = datasets.Flowers102(root = 'data', split = 'test', download = True, transform = transform)"
   ]
  },
  {
   "cell_type": "code",
   "execution_count": 127,
   "id": "06cb2ec2",
   "metadata": {},
   "outputs": [],
   "source": [
    "trainingLoader = DataLoader(training_data, batch_size=16)\n",
    "testingLoader = DataLoader(testing_data, batch_size=16)"
   ]
  },
  {
   "cell_type": "code",
   "execution_count": 167,
   "id": "45cea85d",
   "metadata": {},
   "outputs": [],
   "source": [
    "class NeuralNetwork(nn.Module):\n",
    "    def __init__(self):\n",
    "        super().__init__()\n",
    "        self.conv1 = nn.Conv2d(3, 32, 4)\n",
    "        self.pool = nn.MaxPool2d(3,3)\n",
    "        self.conv2 = nn.Conv2d(32,128,4)\n",
    "        self.conv3 = nn.Conv2d(128,512,4)\n",
    "        self.fc1 = nn.Linear(4608,4000)\n",
    "        self.fc2 = nn.Linear(4000, 3000)\n",
    "        self.fc3 = nn.Linear(3000, 1500)\n",
    "        self.fc4 = nn.Linear(1500,102)\n",
    "        \n",
    "\n",
    "    def forward(self, x):\n",
    "        x = self.pool(F.relu(self.conv1(x)))\n",
    "        x = self.pool(F.relu(self.conv2(x)))\n",
    "        x = self.pool(F.relu(self.conv3(x)))\n",
    "        x = torch.flatten(x,1)\n",
    "        x = F.relu(self.fc1(x))\n",
    "        x = F.relu(self.fc2(x))\n",
    "        x = F.relu(self.fc3(x))\n",
    "        x = self.fc4(x)\n",
    "        return x"
   ]
  },
  {
   "cell_type": "code",
   "execution_count": 168,
   "id": "74cd3fb2",
   "metadata": {},
   "outputs": [],
   "source": [
    "network = NeuralNetwork()"
   ]
  },
  {
   "cell_type": "code",
   "execution_count": 169,
   "id": "59816a54",
   "metadata": {},
   "outputs": [],
   "source": [
    "loss_fn = nn.CrossEntropyLoss()\n",
    "optimizer = torch.optim.SGD(network.parameters(), lr = 0.01)"
   ]
  },
  {
   "cell_type": "code",
   "execution_count": 170,
   "id": "c663b7a5",
   "metadata": {
    "scrolled": true
   },
   "outputs": [
    {
     "name": "stdout",
     "output_type": "stream",
     "text": [
      "[1,     1] loss: 0.463\n",
      "[1,    11] loss: 4.627\n",
      "[1,    21] loss: 4.628\n",
      "[1,    31] loss: 4.633\n",
      "[1,    41] loss: 4.628\n",
      "[1,    51] loss: 4.630\n",
      "[1,    61] loss: 4.628\n",
      "[2,     1] loss: 0.463\n",
      "[2,    11] loss: 4.627\n",
      "[2,    21] loss: 4.628\n",
      "[2,    31] loss: 4.633\n",
      "[2,    41] loss: 4.628\n",
      "[2,    51] loss: 4.630\n",
      "[2,    61] loss: 4.628\n",
      "[3,     1] loss: 0.463\n",
      "[3,    11] loss: 4.627\n",
      "[3,    21] loss: 4.628\n",
      "[3,    31] loss: 4.633\n",
      "[3,    41] loss: 4.628\n",
      "[3,    51] loss: 4.630\n",
      "[3,    61] loss: 4.628\n",
      "[4,     1] loss: 0.463\n",
      "[4,    11] loss: 4.627\n",
      "[4,    21] loss: 4.628\n",
      "[4,    31] loss: 4.633\n",
      "[4,    41] loss: 4.628\n",
      "[4,    51] loss: 4.630\n",
      "[4,    61] loss: 4.628\n",
      "[5,     1] loss: 0.463\n",
      "[5,    11] loss: 4.627\n",
      "[5,    21] loss: 4.628\n",
      "[5,    31] loss: 4.632\n",
      "[5,    41] loss: 4.628\n",
      "[5,    51] loss: 4.630\n",
      "[5,    61] loss: 4.628\n",
      "Finished Training\n"
     ]
    }
   ],
   "source": [
    "epoch = 5\n",
    "\n",
    "for i in range(epoch):\n",
    "    running_loss = 0\n",
    "    for j, data in enumerate(trainingLoader, 0):\n",
    "        inputs, labels = data\n",
    "        optimizer.zero_grad()\n",
    "        \n",
    "        outputs = network(inputs)\n",
    "        loss = loss_fn(outputs, labels)\n",
    "        loss.backward()\n",
    "        optimizer.step()\n",
    "        \n",
    "        running_loss += loss.item()\n",
    "        if j % 10 == 0:    # print every 2000 mini-batches\n",
    "            print(f'[{i + 1}, {j + 1:5d}] loss: {running_loss / 10:.3f}')\n",
    "            running_loss = 0\n",
    "\n",
    "print('Finished Training')"
   ]
  },
  {
   "cell_type": "code",
   "execution_count": null,
   "id": "4c43bbce",
   "metadata": {},
   "outputs": [],
   "source": [
    "correct = 0\n",
    "total = 0\n",
    "\n",
    "for data in testingLoader:\n",
    "    images, labels = data\n",
    "    output = network(images)\n",
    "    _, predicted = torch.max(output.data, 1)\n",
    "    total += labels.size(0)\n",
    "    correct += (predicted == labels).sum().item()\n",
    "    \n",
    "print(f\"Network accuracy = {100 * correct / total}%\")"
   ]
  },
  {
   "cell_type": "code",
   "execution_count": null,
   "id": "519d890a",
   "metadata": {},
   "outputs": [],
   "source": []
  }
 ],
 "metadata": {
  "kernelspec": {
   "display_name": "Python 3 (ipykernel)",
   "language": "python",
   "name": "python3"
  },
  "language_info": {
   "codemirror_mode": {
    "name": "ipython",
    "version": 3
   },
   "file_extension": ".py",
   "mimetype": "text/x-python",
   "name": "python",
   "nbconvert_exporter": "python",
   "pygments_lexer": "ipython3",
   "version": "3.11.4"
  }
 },
 "nbformat": 4,
 "nbformat_minor": 5
}
