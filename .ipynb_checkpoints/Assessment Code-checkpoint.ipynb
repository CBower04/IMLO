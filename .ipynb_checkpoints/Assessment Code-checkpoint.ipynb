{
 "cells": [
  {
   "cell_type": "code",
   "execution_count": 60,
   "id": "71ca9e00",
   "metadata": {},
   "outputs": [],
   "source": [
    "import torch\n",
    "import matplotlib.pyplot as plt\n",
    "from torch import nn\n",
    "from torchvision import datasets\n",
    "from torch.utils.data import DataLoader\n",
    "from torch.nn import functional as F\n",
    "from torchvision import transforms"
   ]
  },
  {
   "cell_type": "code",
   "execution_count": 125,
   "id": "fbbf0a50",
   "metadata": {},
   "outputs": [],
   "source": [
    "transform = transforms.Compose([transforms.Resize((512,512)),transforms.ToTensor()])"
   ]
  },
  {
   "cell_type": "code",
   "execution_count": 126,
   "id": "e369558b",
   "metadata": {
    "scrolled": true
   },
   "outputs": [],
   "source": [
    "training_data = datasets.Flowers102(root = 'data', split = 'train', download = True, transform = transform)\n",
    "testing_data = datasets.Flowers102(root = 'data', split = 'test', download = True, transform = transform)"
   ]
  },
  {
   "cell_type": "code",
   "execution_count": 273,
   "id": "06cb2ec2",
   "metadata": {},
   "outputs": [],
   "source": [
    "trainingLoader = DataLoader(training_data, batch_size=8, shuffle = True)\n",
    "testingLoader = DataLoader(testing_data, batch_size=8, shuffle = True)"
   ]
  },
  {
   "cell_type": "code",
   "execution_count": 287,
   "id": "45cea85d",
   "metadata": {},
   "outputs": [],
   "source": [
    "class NeuralNetwork(nn.Module):\n",
    "    def __init__(self):\n",
    "        super().__init__()\n",
    "        self.layer1 = nn.Sequential(\n",
    "            nn.Conv2d(3,24,5),\n",
    "            nn.BatchNorm2d(24),\n",
    "            nn.ReLU(),\n",
    "            nn.MaxPool2d(3,3)\n",
    "        )\n",
    "        self.layer2 = nn.Sequential(\n",
    "            nn.Conv2d(24, 72,5),\n",
    "            nn.BatchNorm2d(72),\n",
    "            nn.ReLU(),\n",
    "            nn.MaxPool2d(3,3)\n",
    "        )\n",
    "        self.layer3  = nn.Sequential(\n",
    "            nn.Conv2d(72,512,5),\n",
    "            nn.BatchNorm2d(512),\n",
    "            nn.ReLU(),\n",
    "            nn.MaxPool2d(3,3)\n",
    "        )\n",
    "        self.fc1 = nn.Linear(2048,1500)\n",
    "        self.relu1 = nn.ReLU()\n",
    "        self.fc2 = nn.Linear(1500,750)\n",
    "        self.relu2 = nn.ReLU()\n",
    "        self.fc3 = nn.Linear(750,102)\n",
    "\n",
    "    def forward(self, x):\n",
    "        x = self.layer1(x)\n",
    "        x = self.layer2(x)\n",
    "        x = self.layer3(x)\n",
    "        x = x.reshape(x.size(0), -1)\n",
    "        x = self.fc1(x)\n",
    "        x = self.relu1(x)\n",
    "        x = self.fc2(x)\n",
    "        x = self.relu2(x)\n",
    "        x = self.fc3(x)\n",
    "        return x"
   ]
  },
  {
   "cell_type": "code",
   "execution_count": 288,
   "id": "74cd3fb2",
   "metadata": {},
   "outputs": [],
   "source": [
    "network = NeuralNetwork()"
   ]
  },
  {
   "cell_type": "code",
   "execution_count": 289,
   "id": "59816a54",
   "metadata": {},
   "outputs": [],
   "source": [
    "loss_fn = nn.CrossEntropyLoss()\n",
    "optimizer = torch.optim.SGD(network.parameters(), lr = 0.005)"
   ]
  },
  {
   "cell_type": "code",
   "execution_count": 290,
   "id": "c663b7a5",
   "metadata": {
    "scrolled": true
   },
   "outputs": [
    {
     "name": "stdout",
     "output_type": "stream",
     "text": [
      "[1,   100] loss: 4.60707\n",
      "[2,   100] loss: 4.43257\n",
      "[3,   100] loss: 4.22819\n",
      "[4,   100] loss: 3.99284\n",
      "[5,   100] loss: 3.78755\n",
      "[6,   100] loss: 3.58139\n",
      "[7,   100] loss: 3.37337\n",
      "[8,   100] loss: 3.17294\n",
      "[9,   100] loss: 2.97302\n",
      "[10,   100] loss: 2.82922\n",
      "[11,   100] loss: 2.58494\n",
      "[12,   100] loss: 2.37423\n",
      "[13,   100] loss: 2.17371\n",
      "[14,   100] loss: 1.91963\n",
      "[15,   100] loss: 1.73599\n",
      "[16,   100] loss: 1.57647\n",
      "[17,   100] loss: 1.35184\n",
      "[18,   100] loss: 1.17682\n",
      "[19,   100] loss: 1.00886\n",
      "[20,   100] loss: 0.80650\n",
      "[21,   100] loss: 0.65297\n",
      "[22,   100] loss: 0.49017\n",
      "[23,   100] loss: 0.39246\n",
      "[24,   100] loss: 0.30838\n",
      "[25,   100] loss: 0.24554\n",
      "[26,   100] loss: 0.20088\n",
      "[27,   100] loss: 0.14916\n",
      "[28,   100] loss: 0.12219\n",
      "[29,   100] loss: 0.09578\n",
      "[30,   100] loss: 0.09581\n",
      "[31,   100] loss: 0.07218\n",
      "[32,   100] loss: 0.07537\n",
      "[33,   100] loss: 0.05719\n",
      "[34,   100] loss: 0.05166\n",
      "[35,   100] loss: 0.04944\n",
      "[36,   100] loss: 0.04334\n",
      "[37,   100] loss: 0.03647\n",
      "[38,   100] loss: 0.03331\n",
      "[39,   100] loss: 0.03196\n",
      "[40,   100] loss: 0.02854\n",
      "[41,   100] loss: 0.02977\n",
      "[42,   100] loss: 0.02615\n",
      "[43,   100] loss: 0.02397\n",
      "[44,   100] loss: 0.02283\n",
      "[45,   100] loss: 0.02092\n",
      "[46,   100] loss: 0.02071\n",
      "[47,   100] loss: 0.01984\n",
      "[48,   100] loss: 0.01774\n",
      "[49,   100] loss: 0.01666\n",
      "[50,   100] loss: 0.01624\n",
      "[51,   100] loss: 0.01520\n",
      "[52,   100] loss: 0.01584\n",
      "[53,   100] loss: 0.01400\n",
      "[54,   100] loss: 0.01527\n",
      "[55,   100] loss: 0.01708\n",
      "[56,   100] loss: 0.01275\n",
      "[57,   100] loss: 0.01244\n",
      "[58,   100] loss: 0.01294\n",
      "[59,   100] loss: 0.01214\n",
      "[60,   100] loss: 0.01008\n",
      "[61,   100] loss: 0.01167\n",
      "[62,   100] loss: 0.01587\n",
      "[63,   100] loss: 0.01234\n",
      "[64,   100] loss: 0.01032\n",
      "[65,   100] loss: 0.00956\n",
      "[66,   100] loss: 0.01056\n",
      "[67,   100] loss: 0.00896\n",
      "[68,   100] loss: 0.00951\n",
      "[69,   100] loss: 0.00882\n",
      "[70,   100] loss: 0.00854\n",
      "[71,   100] loss: 0.00783\n",
      "[72,   100] loss: 0.00871\n",
      "[73,   100] loss: 0.00822\n",
      "[74,   100] loss: 0.00770\n",
      "[75,   100] loss: 0.00743\n",
      "[76,   100] loss: 0.00706\n",
      "[77,   100] loss: 0.00732\n",
      "[78,   100] loss: 0.00783\n",
      "[79,   100] loss: 0.00713\n",
      "[80,   100] loss: 0.00727\n",
      "[81,   100] loss: 0.00640\n",
      "[82,   100] loss: 0.00664\n",
      "[83,   100] loss: 0.00602\n",
      "[84,   100] loss: 0.00637\n",
      "[85,   100] loss: 0.00590\n",
      "[86,   100] loss: 0.00592\n",
      "[87,   100] loss: 0.00588\n",
      "[88,   100] loss: 0.00587\n",
      "[89,   100] loss: 0.00586\n",
      "[90,   100] loss: 0.00574\n",
      "[91,   100] loss: 0.00530\n",
      "[92,   100] loss: 0.00535\n",
      "[93,   100] loss: 0.00512\n",
      "[94,   100] loss: 0.00468\n",
      "[95,   100] loss: 0.00536\n",
      "[96,   100] loss: 0.00488\n",
      "[97,   100] loss: 0.00506\n",
      "[98,   100] loss: 0.00471\n",
      "[99,   100] loss: 0.00454\n",
      "[100,   100] loss: 0.00487\n",
      "Finished Training\n"
     ]
    }
   ],
   "source": [
    "epoch = 100\n",
    "\n",
    "for i in range(epoch):\n",
    "    running_loss = 0\n",
    "    for j, data in enumerate(trainingLoader, 0):\n",
    "        inputs, labels = data\n",
    "        optimizer.zero_grad()\n",
    "        \n",
    "        outputs = network(inputs)\n",
    "        loss = loss_fn(outputs, labels)\n",
    "        loss.backward()\n",
    "        optimizer.step()\n",
    "        \n",
    "        running_loss += loss.item()\n",
    "        \n",
    "        if j % 100 == 99:\n",
    "            print(f'[{i + 1}, {j + 1:5d}] loss: {running_loss/100:.5f}')\n",
    "            running_loss = 0\n",
    "\n",
    "print('Finished Training')"
   ]
  },
  {
   "cell_type": "code",
   "execution_count": 292,
   "id": "4c43bbce",
   "metadata": {},
   "outputs": [
    {
     "ename": "FileNotFoundError",
     "evalue": "[Errno 2] No such file or directory: '/Users/calebbower/Documents/GitHub/IMLO/data/flowers-102/jpg/image_01337.jpg'",
     "output_type": "error",
     "traceback": [
      "\u001b[0;31m---------------------------------------------------------------------------\u001b[0m",
      "\u001b[0;31mFileNotFoundError\u001b[0m                         Traceback (most recent call last)",
      "Cell \u001b[0;32mIn[292], line 4\u001b[0m\n\u001b[1;32m      1\u001b[0m correct \u001b[38;5;241m=\u001b[39m \u001b[38;5;241m0\u001b[39m\n\u001b[1;32m      2\u001b[0m total \u001b[38;5;241m=\u001b[39m \u001b[38;5;241m0\u001b[39m\n\u001b[0;32m----> 4\u001b[0m \u001b[38;5;28;01mfor\u001b[39;00m data \u001b[38;5;129;01min\u001b[39;00m testingLoader:\n\u001b[1;32m      5\u001b[0m     images, labels \u001b[38;5;241m=\u001b[39m data\n\u001b[1;32m      6\u001b[0m     output \u001b[38;5;241m=\u001b[39m network(images)\n",
      "File \u001b[0;32m~/anaconda3/lib/python3.11/site-packages/torch/utils/data/dataloader.py:631\u001b[0m, in \u001b[0;36m_BaseDataLoaderIter.__next__\u001b[0;34m(self)\u001b[0m\n\u001b[1;32m    628\u001b[0m \u001b[38;5;28;01mif\u001b[39;00m \u001b[38;5;28mself\u001b[39m\u001b[38;5;241m.\u001b[39m_sampler_iter \u001b[38;5;129;01mis\u001b[39;00m \u001b[38;5;28;01mNone\u001b[39;00m:\n\u001b[1;32m    629\u001b[0m     \u001b[38;5;66;03m# TODO(https://github.com/pytorch/pytorch/issues/76750)\u001b[39;00m\n\u001b[1;32m    630\u001b[0m     \u001b[38;5;28mself\u001b[39m\u001b[38;5;241m.\u001b[39m_reset()  \u001b[38;5;66;03m# type: ignore[call-arg]\u001b[39;00m\n\u001b[0;32m--> 631\u001b[0m data \u001b[38;5;241m=\u001b[39m \u001b[38;5;28mself\u001b[39m\u001b[38;5;241m.\u001b[39m_next_data()\n\u001b[1;32m    632\u001b[0m \u001b[38;5;28mself\u001b[39m\u001b[38;5;241m.\u001b[39m_num_yielded \u001b[38;5;241m+\u001b[39m\u001b[38;5;241m=\u001b[39m \u001b[38;5;241m1\u001b[39m\n\u001b[1;32m    633\u001b[0m \u001b[38;5;28;01mif\u001b[39;00m \u001b[38;5;28mself\u001b[39m\u001b[38;5;241m.\u001b[39m_dataset_kind \u001b[38;5;241m==\u001b[39m _DatasetKind\u001b[38;5;241m.\u001b[39mIterable \u001b[38;5;129;01mand\u001b[39;00m \\\n\u001b[1;32m    634\u001b[0m         \u001b[38;5;28mself\u001b[39m\u001b[38;5;241m.\u001b[39m_IterableDataset_len_called \u001b[38;5;129;01mis\u001b[39;00m \u001b[38;5;129;01mnot\u001b[39;00m \u001b[38;5;28;01mNone\u001b[39;00m \u001b[38;5;129;01mand\u001b[39;00m \\\n\u001b[1;32m    635\u001b[0m         \u001b[38;5;28mself\u001b[39m\u001b[38;5;241m.\u001b[39m_num_yielded \u001b[38;5;241m>\u001b[39m \u001b[38;5;28mself\u001b[39m\u001b[38;5;241m.\u001b[39m_IterableDataset_len_called:\n",
      "File \u001b[0;32m~/anaconda3/lib/python3.11/site-packages/torch/utils/data/dataloader.py:675\u001b[0m, in \u001b[0;36m_SingleProcessDataLoaderIter._next_data\u001b[0;34m(self)\u001b[0m\n\u001b[1;32m    673\u001b[0m \u001b[38;5;28;01mdef\u001b[39;00m \u001b[38;5;21m_next_data\u001b[39m(\u001b[38;5;28mself\u001b[39m):\n\u001b[1;32m    674\u001b[0m     index \u001b[38;5;241m=\u001b[39m \u001b[38;5;28mself\u001b[39m\u001b[38;5;241m.\u001b[39m_next_index()  \u001b[38;5;66;03m# may raise StopIteration\u001b[39;00m\n\u001b[0;32m--> 675\u001b[0m     data \u001b[38;5;241m=\u001b[39m \u001b[38;5;28mself\u001b[39m\u001b[38;5;241m.\u001b[39m_dataset_fetcher\u001b[38;5;241m.\u001b[39mfetch(index)  \u001b[38;5;66;03m# may raise StopIteration\u001b[39;00m\n\u001b[1;32m    676\u001b[0m     \u001b[38;5;28;01mif\u001b[39;00m \u001b[38;5;28mself\u001b[39m\u001b[38;5;241m.\u001b[39m_pin_memory:\n\u001b[1;32m    677\u001b[0m         data \u001b[38;5;241m=\u001b[39m _utils\u001b[38;5;241m.\u001b[39mpin_memory\u001b[38;5;241m.\u001b[39mpin_memory(data, \u001b[38;5;28mself\u001b[39m\u001b[38;5;241m.\u001b[39m_pin_memory_device)\n",
      "File \u001b[0;32m~/anaconda3/lib/python3.11/site-packages/torch/utils/data/_utils/fetch.py:51\u001b[0m, in \u001b[0;36m_MapDatasetFetcher.fetch\u001b[0;34m(self, possibly_batched_index)\u001b[0m\n\u001b[1;32m     49\u001b[0m         data \u001b[38;5;241m=\u001b[39m \u001b[38;5;28mself\u001b[39m\u001b[38;5;241m.\u001b[39mdataset\u001b[38;5;241m.\u001b[39m__getitems__(possibly_batched_index)\n\u001b[1;32m     50\u001b[0m     \u001b[38;5;28;01melse\u001b[39;00m:\n\u001b[0;32m---> 51\u001b[0m         data \u001b[38;5;241m=\u001b[39m [\u001b[38;5;28mself\u001b[39m\u001b[38;5;241m.\u001b[39mdataset[idx] \u001b[38;5;28;01mfor\u001b[39;00m idx \u001b[38;5;129;01min\u001b[39;00m possibly_batched_index]\n\u001b[1;32m     52\u001b[0m \u001b[38;5;28;01melse\u001b[39;00m:\n\u001b[1;32m     53\u001b[0m     data \u001b[38;5;241m=\u001b[39m \u001b[38;5;28mself\u001b[39m\u001b[38;5;241m.\u001b[39mdataset[possibly_batched_index]\n",
      "File \u001b[0;32m~/anaconda3/lib/python3.11/site-packages/torch/utils/data/_utils/fetch.py:51\u001b[0m, in \u001b[0;36m<listcomp>\u001b[0;34m(.0)\u001b[0m\n\u001b[1;32m     49\u001b[0m         data \u001b[38;5;241m=\u001b[39m \u001b[38;5;28mself\u001b[39m\u001b[38;5;241m.\u001b[39mdataset\u001b[38;5;241m.\u001b[39m__getitems__(possibly_batched_index)\n\u001b[1;32m     50\u001b[0m     \u001b[38;5;28;01melse\u001b[39;00m:\n\u001b[0;32m---> 51\u001b[0m         data \u001b[38;5;241m=\u001b[39m [\u001b[38;5;28mself\u001b[39m\u001b[38;5;241m.\u001b[39mdataset[idx] \u001b[38;5;28;01mfor\u001b[39;00m idx \u001b[38;5;129;01min\u001b[39;00m possibly_batched_index]\n\u001b[1;32m     52\u001b[0m \u001b[38;5;28;01melse\u001b[39;00m:\n\u001b[1;32m     53\u001b[0m     data \u001b[38;5;241m=\u001b[39m \u001b[38;5;28mself\u001b[39m\u001b[38;5;241m.\u001b[39mdataset[possibly_batched_index]\n",
      "File \u001b[0;32m~/anaconda3/lib/python3.11/site-packages/torchvision/datasets/flowers102.py:81\u001b[0m, in \u001b[0;36mFlowers102.__getitem__\u001b[0;34m(self, idx)\u001b[0m\n\u001b[1;32m     79\u001b[0m \u001b[38;5;28;01mdef\u001b[39;00m \u001b[38;5;21m__getitem__\u001b[39m(\u001b[38;5;28mself\u001b[39m, idx: \u001b[38;5;28mint\u001b[39m) \u001b[38;5;241m-\u001b[39m\u001b[38;5;241m>\u001b[39m Tuple[Any, Any]:\n\u001b[1;32m     80\u001b[0m     image_file, label \u001b[38;5;241m=\u001b[39m \u001b[38;5;28mself\u001b[39m\u001b[38;5;241m.\u001b[39m_image_files[idx], \u001b[38;5;28mself\u001b[39m\u001b[38;5;241m.\u001b[39m_labels[idx]\n\u001b[0;32m---> 81\u001b[0m     image \u001b[38;5;241m=\u001b[39m PIL\u001b[38;5;241m.\u001b[39mImage\u001b[38;5;241m.\u001b[39mopen(image_file)\u001b[38;5;241m.\u001b[39mconvert(\u001b[38;5;124m\"\u001b[39m\u001b[38;5;124mRGB\u001b[39m\u001b[38;5;124m\"\u001b[39m)\n\u001b[1;32m     83\u001b[0m     \u001b[38;5;28;01mif\u001b[39;00m \u001b[38;5;28mself\u001b[39m\u001b[38;5;241m.\u001b[39mtransform:\n\u001b[1;32m     84\u001b[0m         image \u001b[38;5;241m=\u001b[39m \u001b[38;5;28mself\u001b[39m\u001b[38;5;241m.\u001b[39mtransform(image)\n",
      "File \u001b[0;32m~/anaconda3/lib/python3.11/site-packages/PIL/Image.py:3227\u001b[0m, in \u001b[0;36mopen\u001b[0;34m(fp, mode, formats)\u001b[0m\n\u001b[1;32m   3224\u001b[0m     filename \u001b[38;5;241m=\u001b[39m fp\n\u001b[1;32m   3226\u001b[0m \u001b[38;5;28;01mif\u001b[39;00m filename:\n\u001b[0;32m-> 3227\u001b[0m     fp \u001b[38;5;241m=\u001b[39m builtins\u001b[38;5;241m.\u001b[39mopen(filename, \u001b[38;5;124m\"\u001b[39m\u001b[38;5;124mrb\u001b[39m\u001b[38;5;124m\"\u001b[39m)\n\u001b[1;32m   3228\u001b[0m     exclusive_fp \u001b[38;5;241m=\u001b[39m \u001b[38;5;28;01mTrue\u001b[39;00m\n\u001b[1;32m   3230\u001b[0m \u001b[38;5;28;01mtry\u001b[39;00m:\n",
      "\u001b[0;31mFileNotFoundError\u001b[0m: [Errno 2] No such file or directory: '/Users/calebbower/Documents/GitHub/IMLO/data/flowers-102/jpg/image_01337.jpg'"
     ]
    }
   ],
   "source": [
    "correct = 0\n",
    "total = 0\n",
    "\n",
    "for data in testingLoader:\n",
    "    images, labels = data\n",
    "    output = network(images)\n",
    "    _, predicted = torch.max(output.data, 1)\n",
    "    total += labels.size(0)\n",
    "    correct += (predicted == labels).sum().item()\n",
    "    \n",
    "print(f\"Network accuracy = {100 * (correct / total)}%\")"
   ]
  },
  {
   "cell_type": "code",
   "execution_count": null,
   "id": "8fb8dd0c",
   "metadata": {},
   "outputs": [],
   "source": []
  }
 ],
 "metadata": {
  "kernelspec": {
   "display_name": "Python 3 (ipykernel)",
   "language": "python",
   "name": "python3"
  },
  "language_info": {
   "codemirror_mode": {
    "name": "ipython",
    "version": 3
   },
   "file_extension": ".py",
   "mimetype": "text/x-python",
   "name": "python",
   "nbconvert_exporter": "python",
   "pygments_lexer": "ipython3",
   "version": "3.11.4"
  }
 },
 "nbformat": 4,
 "nbformat_minor": 5
}
