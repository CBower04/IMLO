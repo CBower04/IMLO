{
 "cells": [
  {
   "cell_type": "code",
   "execution_count": 60,
   "id": "71ca9e00",
   "metadata": {},
   "outputs": [],
   "source": [
    "import torch\n",
    "import matplotlib.pyplot as plt\n",
    "from torch import nn\n",
    "from torchvision import datasets\n",
    "from torch.utils.data import DataLoader\n",
    "from torch.nn import functional as F\n",
    "from torchvision import transforms"
   ]
  },
  {
   "cell_type": "code",
   "execution_count": 125,
   "id": "fbbf0a50",
   "metadata": {},
   "outputs": [],
   "source": [
    "transform = transforms.Compose([transforms.Resize((512,512)),transforms.ToTensor()])"
   ]
  },
  {
   "cell_type": "code",
   "execution_count": 126,
   "id": "e369558b",
   "metadata": {
    "scrolled": true
   },
   "outputs": [],
   "source": [
    "training_data = datasets.Flowers102(root = 'data', split = 'train', download = True, transform = transform)\n",
    "testing_data = datasets.Flowers102(root = 'data', split = 'test', download = True, transform = transform)"
   ]
  },
  {
   "cell_type": "code",
   "execution_count": 127,
   "id": "06cb2ec2",
   "metadata": {},
   "outputs": [],
   "source": [
    "trainingLoader = DataLoader(training_data, batch_size=16)\n",
    "testingLoader = DataLoader(testing_data, batch_size=16)"
   ]
  },
  {
   "cell_type": "code",
   "execution_count": 211,
   "id": "45cea85d",
   "metadata": {},
   "outputs": [],
   "source": [
    "class NeuralNetwork(nn.Module):\n",
    "    def __init__(self):\n",
    "        super().__init__()\n",
    "        self.layer1 = nn.Sequential(\n",
    "            nn.Conv2d(3,18,5),\n",
    "            nn.BatchNorm2d(18),\n",
    "            nn.ReLU(),\n",
    "            nn.MaxPool2d(3,3)\n",
    "        )\n",
    "        self.layer2 = nn.Sequential(\n",
    "            nn.Conv2d(18, 48,5),\n",
    "            nn.BatchNorm2d(48),\n",
    "            nn.ReLU(),\n",
    "            nn.MaxPool2d(3,3)\n",
    "        )\n",
    "        self.fc1 = nn.Linear(6912,2000)\n",
    "        self.relu1 = nn.ReLU()\n",
    "        self.fc2 = nn.Linear(2000,500)\n",
    "        self.relu2 = nn.ReLU()\n",
    "        self.fc3 = nn.Linear(500,102)\n",
    "\n",
    "    def forward(self, x):\n",
    "        x = self.layer1(x)\n",
    "        x = self.layer2(x)\n",
    "        x = x.reshape(x.size(0), -1)\n",
    "        x = self.fc1(x)\n",
    "        x = self.relu1(x)\n",
    "        x = self.fc2(x)\n",
    "        x = self.relu2(x)\n",
    "        x = self.fc3(x)\n",
    "        return x"
   ]
  },
  {
   "cell_type": "code",
   "execution_count": 212,
   "id": "74cd3fb2",
   "metadata": {},
   "outputs": [],
   "source": [
    "network = NeuralNetwork()"
   ]
  },
  {
   "cell_type": "code",
   "execution_count": 213,
   "id": "59816a54",
   "metadata": {},
   "outputs": [],
   "source": [
    "loss_fn = nn.CrossEntropyLoss()\n",
    "optimizer = torch.optim.SGD(network.parameters(), lr = 0.01)"
   ]
  },
  {
   "cell_type": "code",
   "execution_count": 220,
   "id": "c663b7a5",
   "metadata": {
    "scrolled": true
   },
   "outputs": [
    {
     "name": "stdout",
     "output_type": "stream",
     "text": [
      "[1,    50] loss: 2.498\n",
      "[2,    50] loss: 2.339\n",
      "[3,    50] loss: 2.123\n",
      "[4,    50] loss: 1.915\n",
      "[5,    50] loss: 1.713\n",
      "[6,    50] loss: 1.518\n",
      "[7,    50] loss: 1.339\n",
      "[8,    50] loss: 1.164\n",
      "[9,    50] loss: 1.005\n",
      "[10,    50] loss: 0.864\n",
      "[11,    50] loss: 0.750\n",
      "[12,    50] loss: 0.617\n",
      "[13,    50] loss: 0.489\n",
      "[14,    50] loss: 0.407\n",
      "[15,    50] loss: 0.317\n",
      "[16,    50] loss: 0.252\n",
      "[17,    50] loss: 0.195\n",
      "[18,    50] loss: 0.391\n",
      "[19,    50] loss: 0.360\n",
      "[20,    50] loss: 0.169\n",
      "[21,    50] loss: 0.106\n",
      "[22,    50] loss: 0.082\n",
      "[23,    50] loss: 0.073\n",
      "[24,    50] loss: 0.060\n",
      "[25,    50] loss: 0.052\n",
      "[26,    50] loss: 0.046\n",
      "[27,    50] loss: 0.041\n",
      "[28,    50] loss: 0.038\n",
      "[29,    50] loss: 0.035\n",
      "[30,    50] loss: 0.033\n",
      "[31,    50] loss: 0.031\n",
      "[32,    50] loss: 0.029\n",
      "[33,    50] loss: 0.027\n",
      "[34,    50] loss: 0.025\n",
      "[35,    50] loss: 0.024\n",
      "[36,    50] loss: 0.022\n",
      "[37,    50] loss: 0.021\n",
      "[38,    50] loss: 0.020\n",
      "[39,    50] loss: 0.019\n",
      "[40,    50] loss: 0.019\n",
      "[41,    50] loss: 0.018\n",
      "[42,    50] loss: 0.018\n",
      "[43,    50] loss: 0.018\n",
      "[44,    50] loss: 0.017\n",
      "[45,    50] loss: 0.016\n",
      "[46,    50] loss: 0.016\n",
      "[47,    50] loss: 0.015\n",
      "[48,    50] loss: 0.014\n",
      "[49,    50] loss: 0.014\n",
      "[50,    50] loss: 0.013\n",
      "Finished Training\n"
     ]
    }
   ],
   "source": [
    "epoch = 50\n",
    "\n",
    "for i in range(epoch):\n",
    "    running_loss = 0\n",
    "    for j, data in enumerate(trainingLoader, 0):\n",
    "        inputs, labels = data\n",
    "        optimizer.zero_grad()\n",
    "        \n",
    "        outputs = network(inputs)\n",
    "        loss = loss_fn(outputs, labels)\n",
    "        loss.backward()\n",
    "        optimizer.step()\n",
    "        \n",
    "        running_loss += loss.item()\n",
    "        \n",
    "        if j % 50 == 49:\n",
    "            print(f'[{i + 1}, {j + 1:5d}] loss: {running_loss/50:.3f}')\n",
    "            running_loss = 0\n",
    "\n",
    "print('Finished Training')"
   ]
  },
  {
   "cell_type": "code",
   "execution_count": 221,
   "id": "4c43bbce",
   "metadata": {},
   "outputs": [
    {
     "name": "stdout",
     "output_type": "stream",
     "text": [
      "Network accuracy = 10.928606277443487%\n"
     ]
    }
   ],
   "source": [
    "correct = 0\n",
    "total = 0\n",
    "\n",
    "for data in testingLoader:\n",
    "    images, labels = data\n",
    "    output = network(images)\n",
    "    _, predicted = torch.max(output.data, 1)\n",
    "    total += labels.size(0)\n",
    "    correct += (predicted == labels).sum().item()\n",
    "    \n",
    "print(f\"Network accuracy = {100 * (correct / total)}%\")"
   ]
  },
  {
   "cell_type": "code",
   "execution_count": null,
   "id": "473ba965",
   "metadata": {},
   "outputs": [],
   "source": []
  }
 ],
 "metadata": {
  "kernelspec": {
   "display_name": "Python 3 (ipykernel)",
   "language": "python",
   "name": "python3"
  },
  "language_info": {
   "codemirror_mode": {
    "name": "ipython",
    "version": 3
   },
   "file_extension": ".py",
   "mimetype": "text/x-python",
   "name": "python",
   "nbconvert_exporter": "python",
   "pygments_lexer": "ipython3",
   "version": "3.11.4"
  }
 },
 "nbformat": 4,
 "nbformat_minor": 5
}
