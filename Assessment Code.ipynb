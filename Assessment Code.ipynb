{
 "cells": [
  {
   "cell_type": "code",
   "execution_count": 1,
   "id": "71ca9e00",
   "metadata": {},
   "outputs": [],
   "source": [
    "import torch\n",
    "import matplotlib.pyplot as plt\n",
    "from torch import nn\n",
    "from torchvision import datasets\n",
    "from torch.utils.data import DataLoader\n",
    "from torch.nn import functional as F\n",
    "from torchvision import transforms"
   ]
  },
  {
   "cell_type": "code",
   "execution_count": 2,
   "id": "fbbf0a50",
   "metadata": {},
   "outputs": [],
   "source": [
    "transform = transforms.Compose([transforms.Resize((512,512)),transforms.ToTensor()])"
   ]
  },
  {
   "cell_type": "code",
   "execution_count": 3,
   "id": "e369558b",
   "metadata": {
    "scrolled": true
   },
   "outputs": [],
   "source": [
    "training_data = datasets.Flowers102(root = 'data', split = 'train', download = True, transform = transform)\n",
    "testing_data = datasets.Flowers102(root = 'data', split = 'test', download = True, transform = transform)"
   ]
  },
  {
   "cell_type": "code",
   "execution_count": 4,
   "id": "06cb2ec2",
   "metadata": {},
   "outputs": [],
   "source": [
    "trainingLoader = DataLoader(training_data, batch_size=8, shuffle = True)\n",
    "testingLoader = DataLoader(testing_data, batch_size=8, shuffle = True)"
   ]
  },
  {
   "cell_type": "code",
   "execution_count": 35,
   "id": "45cea85d",
   "metadata": {},
   "outputs": [],
   "source": [
    "class NeuralNetwork(nn.Module):\n",
    "    def __init__(self):\n",
    "        super().__init__()\n",
    "        self.layer1 = nn.Sequential(\n",
    "            nn.Conv2d(3,24,5),\n",
    "            nn.BatchNorm2d(24),\n",
    "            nn.ReLU(),\n",
    "            nn.MaxPool2d(3,3)\n",
    "        )\n",
    "        self.layer2 = nn.Sequential(\n",
    "            nn.Conv2d(24, 48,5),\n",
    "            nn.BatchNorm2d(48),\n",
    "            nn.ReLU(),\n",
    "            nn.MaxPool2d(3,3)\n",
    "        )\n",
    "        self.layer3  = nn.Sequential(\n",
    "            nn.Conv2d(48,96,5),\n",
    "            nn.BatchNorm2d(96),\n",
    "            nn.ReLU(),\n",
    "            nn.MaxPool2d(3,3)\n",
    "        )\n",
    "        self.layer4 = nn.Sequential(\n",
    "            nn.Conv2d(96,192,5),\n",
    "            nn.BatchNorm2d(192),\n",
    "            nn.ReLU(),\n",
    "            nn.MaxPool2d(3,3)\n",
    "        )\n",
    "        self.fc1 = nn.Linear(3072,1000)\n",
    "        self.relu1 = nn.ReLU()\n",
    "        self.fc2 = nn.Linear(1000,500)\n",
    "        self.relu2 = nn.ReLU()\n",
    "        self.fc3 = nn.Linear(500,102)\n",
    "\n",
    "    def forward(self, x):\n",
    "        x = self.layer1(x)\n",
    "        x = self.layer2(x)\n",
    "        x = self.layer3(x)\n",
    "        x = self.layer4(x)\n",
    "        x = x.reshape(x.size(0), -1)\n",
    "        x = self.fc1(x)\n",
    "        x = self.relu1(x)\n",
    "        x = self.fc2(x)\n",
    "        x = self.relu2(x)\n",
    "        x = self.fc3(x)\n",
    "        return x"
   ]
  },
  {
   "cell_type": "code",
   "execution_count": 36,
   "id": "74cd3fb2",
   "metadata": {},
   "outputs": [],
   "source": [
    "network = NeuralNetwork()"
   ]
  },
  {
   "cell_type": "code",
   "execution_count": 37,
   "id": "59816a54",
   "metadata": {},
   "outputs": [],
   "source": [
    "loss_fn = nn.CrossEntropyLoss()\n",
    "optimizer = torch.optim.SGD(network.parameters(), lr = 0.005)"
   ]
  },
  {
   "cell_type": "code",
   "execution_count": 38,
   "id": "c663b7a5",
   "metadata": {
    "scrolled": true
   },
   "outputs": [
    {
     "name": "stdout",
     "output_type": "stream",
     "text": [
      "[1,   100] loss: 4.60167\n",
      "[2,   100] loss: 4.43136\n",
      "[3,   100] loss: 4.19943\n",
      "[4,   100] loss: 3.91881\n",
      "[5,   100] loss: 3.66767\n",
      "[6,   100] loss: 3.42319\n",
      "[7,   100] loss: 3.20766\n",
      "[8,   100] loss: 3.00126\n",
      "[9,   100] loss: 2.79311\n",
      "[10,   100] loss: 2.52762\n",
      "[11,   100] loss: 2.32606\n",
      "[12,   100] loss: 2.09825\n",
      "[13,   100] loss: 1.83190\n",
      "[14,   100] loss: 1.60117\n",
      "[15,   100] loss: 1.40724\n",
      "[16,   100] loss: 1.16692\n",
      "[17,   100] loss: 0.98527\n",
      "[18,   100] loss: 0.84248\n",
      "[19,   100] loss: 0.60192\n",
      "[20,   100] loss: 0.48661\n",
      "[21,   100] loss: 0.34849\n",
      "[22,   100] loss: 0.26566\n",
      "[23,   100] loss: 0.21357\n",
      "[24,   100] loss: 0.15085\n",
      "[25,   100] loss: 0.13461\n",
      "[26,   100] loss: 0.09969\n",
      "[27,   100] loss: 0.08398\n",
      "[28,   100] loss: 0.06474\n",
      "[29,   100] loss: 0.06080\n",
      "[30,   100] loss: 0.04898\n",
      "[31,   100] loss: 0.04716\n",
      "[32,   100] loss: 0.03982\n",
      "[33,   100] loss: 0.03303\n",
      "[34,   100] loss: 0.03634\n",
      "[35,   100] loss: 0.02959\n",
      "[36,   100] loss: 0.02646\n",
      "[37,   100] loss: 0.02448\n",
      "[38,   100] loss: 0.02540\n",
      "[39,   100] loss: 0.02037\n",
      "[40,   100] loss: 0.02303\n",
      "[41,   100] loss: 0.02014\n",
      "[42,   100] loss: 0.01924\n",
      "[43,   100] loss: 0.01856\n",
      "[44,   100] loss: 0.01601\n",
      "[45,   100] loss: 0.01562\n",
      "[46,   100] loss: 0.01582\n",
      "[47,   100] loss: 0.01331\n",
      "[48,   100] loss: 0.01413\n",
      "[49,   100] loss: 0.01203\n",
      "[50,   100] loss: 0.01174\n",
      "Finished Training\n"
     ]
    }
   ],
   "source": [
    "epoch = 50\n",
    "\n",
    "for i in range(epoch):\n",
    "    running_loss = 0\n",
    "    for j, data in enumerate(trainingLoader, 0):\n",
    "        inputs, labels = data\n",
    "        optimizer.zero_grad()\n",
    "        \n",
    "        outputs = network(inputs)\n",
    "        loss = loss_fn(outputs, labels)\n",
    "        loss.backward()\n",
    "        optimizer.step()\n",
    "        \n",
    "        running_loss += loss.item()\n",
    "        \n",
    "        if j % 100 == 99:\n",
    "            print(f'[{i + 1}, {j + 1:5d}] loss: {running_loss/100:.5f}')\n",
    "            running_loss = 0\n",
    "\n",
    "print('Finished Training')"
   ]
  },
  {
   "cell_type": "code",
   "execution_count": 39,
   "id": "4c43bbce",
   "metadata": {},
   "outputs": [
    {
     "name": "stdout",
     "output_type": "stream",
     "text": [
      "Network accuracy = 38.28264758497317%\n"
     ]
    }
   ],
   "source": [
    "correct = 0\n",
    "total = 0\n",
    "\n",
    "for data in testingLoader:\n",
    "    images, labels = data\n",
    "    output = network(images)\n",
    "    _, predicted = torch.max(output.data, 1)\n",
    "    total += labels.size(0)\n",
    "    correct += (predicted == labels).sum().item()\n",
    "    \n",
    "print(f\"Network accuracy = {100 * (correct / total)}%\")"
   ]
  },
  {
   "cell_type": "code",
   "execution_count": null,
   "id": "8fb8dd0c",
   "metadata": {},
   "outputs": [],
   "source": []
  }
 ],
 "metadata": {
  "kernelspec": {
   "display_name": "Python 3 (ipykernel)",
   "language": "python",
   "name": "python3"
  },
  "language_info": {
   "codemirror_mode": {
    "name": "ipython",
    "version": 3
   },
   "file_extension": ".py",
   "mimetype": "text/x-python",
   "name": "python",
   "nbconvert_exporter": "python",
   "pygments_lexer": "ipython3",
   "version": "3.11.4"
  }
 },
 "nbformat": 4,
 "nbformat_minor": 5
}
