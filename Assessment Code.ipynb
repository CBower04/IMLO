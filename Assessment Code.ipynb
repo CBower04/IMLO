{
 "cells": [
  {
   "cell_type": "code",
   "execution_count": 60,
   "id": "71ca9e00",
   "metadata": {},
   "outputs": [],
   "source": [
    "import torch\n",
    "import matplotlib.pyplot as plt\n",
    "from torch import nn\n",
    "from torchvision import datasets\n",
    "from torch.utils.data import DataLoader\n",
    "from torch.nn import functional as F\n",
    "from torchvision import transforms"
   ]
  },
  {
   "cell_type": "code",
   "execution_count": 125,
   "id": "fbbf0a50",
   "metadata": {},
   "outputs": [],
   "source": [
    "transform = transforms.Compose([transforms.Resize((512,512)),transforms.ToTensor()])"
   ]
  },
  {
   "cell_type": "code",
   "execution_count": 126,
   "id": "e369558b",
   "metadata": {
    "scrolled": true
   },
   "outputs": [],
   "source": [
    "training_data = datasets.Flowers102(root = 'data', split = 'train', download = True, transform = transform)\n",
    "testing_data = datasets.Flowers102(root = 'data', split = 'test', download = True, transform = transform)"
   ]
  },
  {
   "cell_type": "code",
   "execution_count": 273,
   "id": "06cb2ec2",
   "metadata": {},
   "outputs": [],
   "source": [
    "trainingLoader = DataLoader(training_data, batch_size=8, shuffle = True)\n",
    "testingLoader = DataLoader(testing_data, batch_size=8, shuffle = True)"
   ]
  },
  {
   "cell_type": "code",
   "execution_count": 274,
   "id": "45cea85d",
   "metadata": {},
   "outputs": [],
   "source": [
    "class NeuralNetwork(nn.Module):\n",
    "    def __init__(self):\n",
    "        super().__init__()\n",
    "        self.layer1 = nn.Sequential(\n",
    "            nn.Conv2d(3,24,5),\n",
    "            nn.BatchNorm2d(24),\n",
    "            nn.ReLU(),\n",
    "            nn.MaxPool2d(3,3)\n",
    "        )\n",
    "        self.layer2 = nn.Sequential(\n",
    "            nn.Conv2d(24, 72,5),\n",
    "            nn.BatchNorm2d(72),\n",
    "            nn.ReLU(),\n",
    "            nn.MaxPool2d(3,3)\n",
    "        )\n",
    "        self.fc1 = nn.Linear(10368,5000)\n",
    "        self.relu1 = nn.ReLU()\n",
    "        self.fc2 = nn.Linear(5000,1000)\n",
    "        self.relu2 = nn.ReLU()\n",
    "        self.fc3 = nn.Linear(1000,102)\n",
    "\n",
    "    def forward(self, x):\n",
    "        x = self.layer1(x)\n",
    "        x = self.layer2(x)\n",
    "        x = x.reshape(x.size(0), -1)\n",
    "        x = self.fc1(x)\n",
    "        x = self.relu1(x)\n",
    "        x = self.fc2(x)\n",
    "        x = self.relu2(x)\n",
    "        x = self.fc3(x)\n",
    "        return x"
   ]
  },
  {
   "cell_type": "code",
   "execution_count": 275,
   "id": "74cd3fb2",
   "metadata": {},
   "outputs": [],
   "source": [
    "network = NeuralNetwork()"
   ]
  },
  {
   "cell_type": "code",
   "execution_count": 276,
   "id": "59816a54",
   "metadata": {},
   "outputs": [],
   "source": [
    "loss_fn = nn.CrossEntropyLoss()\n",
    "optimizer = torch.optim.SGD(network.parameters(), lr = 0.005)"
   ]
  },
  {
   "cell_type": "code",
   "execution_count": 277,
   "id": "c663b7a5",
   "metadata": {
    "scrolled": true
   },
   "outputs": [
    {
     "name": "stdout",
     "output_type": "stream",
     "text": [
      "[1,   100] loss: 4.62382\n",
      "[2,   100] loss: 4.33543\n",
      "[3,   100] loss: 3.96846\n",
      "[4,   100] loss: 3.58053\n",
      "[5,   100] loss: 3.17695\n",
      "[6,   100] loss: 2.75202\n",
      "[7,   100] loss: 2.31670\n",
      "[8,   100] loss: 1.93557\n",
      "[9,   100] loss: 1.57628\n",
      "[10,   100] loss: 1.15128\n",
      "[11,   100] loss: 0.83500\n",
      "[12,   100] loss: 0.54071\n",
      "[13,   100] loss: 0.34326\n",
      "[14,   100] loss: 0.22295\n",
      "[15,   100] loss: 0.15757\n",
      "[16,   100] loss: 0.11124\n",
      "[17,   100] loss: 0.08455\n",
      "[18,   100] loss: 0.07093\n",
      "[19,   100] loss: 0.05648\n",
      "[20,   100] loss: 0.05069\n",
      "[21,   100] loss: 0.04474\n",
      "[22,   100] loss: 0.03671\n",
      "[23,   100] loss: 0.03221\n",
      "[24,   100] loss: 0.02798\n",
      "[25,   100] loss: 0.02407\n",
      "[26,   100] loss: 0.02425\n",
      "[27,   100] loss: 0.02220\n",
      "[28,   100] loss: 0.02037\n",
      "[29,   100] loss: 0.01785\n",
      "[30,   100] loss: 0.01635\n",
      "[31,   100] loss: 0.01647\n",
      "[32,   100] loss: 0.01484\n",
      "[33,   100] loss: 0.01513\n",
      "[34,   100] loss: 0.01384\n",
      "[35,   100] loss: 0.01398\n",
      "[36,   100] loss: 0.01217\n",
      "[37,   100] loss: 0.01295\n",
      "[38,   100] loss: 0.01088\n",
      "[39,   100] loss: 0.01098\n",
      "[40,   100] loss: 0.00993\n",
      "[41,   100] loss: 0.01057\n",
      "[42,   100] loss: 0.00979\n",
      "[43,   100] loss: 0.00898\n",
      "[44,   100] loss: 0.00884\n",
      "[45,   100] loss: 0.00844\n",
      "[46,   100] loss: 0.00823\n",
      "[47,   100] loss: 0.00791\n",
      "[48,   100] loss: 0.00782\n",
      "[49,   100] loss: 0.00747\n",
      "[50,   100] loss: 0.00715\n",
      "[51,   100] loss: 0.00726\n",
      "[52,   100] loss: 0.00657\n",
      "[53,   100] loss: 0.00672\n",
      "[54,   100] loss: 0.00663\n",
      "[55,   100] loss: 0.00592\n",
      "[56,   100] loss: 0.00640\n",
      "[57,   100] loss: 0.00584\n",
      "[58,   100] loss: 0.00554\n",
      "[59,   100] loss: 0.00557\n",
      "[60,   100] loss: 0.00589\n",
      "[61,   100] loss: 0.00535\n",
      "[62,   100] loss: 0.00558\n",
      "[63,   100] loss: 0.00555\n",
      "[64,   100] loss: 0.00512\n",
      "[65,   100] loss: 0.00495\n",
      "[66,   100] loss: 0.00465\n",
      "[67,   100] loss: 0.00476\n",
      "[68,   100] loss: 0.00431\n",
      "[69,   100] loss: 0.00456\n",
      "[70,   100] loss: 0.00448\n",
      "[71,   100] loss: 0.00447\n",
      "[72,   100] loss: 0.00454\n",
      "[73,   100] loss: 0.00430\n",
      "[74,   100] loss: 0.00412\n",
      "[75,   100] loss: 0.00411\n",
      "[76,   100] loss: 0.00433\n",
      "[77,   100] loss: 0.00379\n",
      "[78,   100] loss: 0.00404\n",
      "[79,   100] loss: 0.00379\n",
      "[80,   100] loss: 0.00368\n",
      "[81,   100] loss: 0.00386\n",
      "[82,   100] loss: 0.00362\n",
      "[83,   100] loss: 0.00354\n",
      "[84,   100] loss: 0.00344\n",
      "[85,   100] loss: 0.00342\n",
      "[86,   100] loss: 0.00348\n",
      "[87,   100] loss: 0.00340\n",
      "[88,   100] loss: 0.00324\n",
      "[89,   100] loss: 0.00321\n",
      "[90,   100] loss: 0.00307\n",
      "[91,   100] loss: 0.00325\n",
      "[92,   100] loss: 0.00302\n",
      "[93,   100] loss: 0.00292\n",
      "[94,   100] loss: 0.00314\n",
      "[95,   100] loss: 0.00292\n",
      "[96,   100] loss: 0.00294\n",
      "[97,   100] loss: 0.00290\n",
      "[98,   100] loss: 0.00311\n",
      "[99,   100] loss: 0.00274\n",
      "[100,   100] loss: 0.00277\n",
      "Finished Training\n"
     ]
    }
   ],
   "source": [
    "epoch = 100\n",
    "\n",
    "for i in range(epoch):\n",
    "    running_loss = 0\n",
    "    for j, data in enumerate(trainingLoader, 0):\n",
    "        inputs, labels = data\n",
    "        optimizer.zero_grad()\n",
    "        \n",
    "        outputs = network(inputs)\n",
    "        loss = loss_fn(outputs, labels)\n",
    "        loss.backward()\n",
    "        optimizer.step()\n",
    "        \n",
    "        running_loss += loss.item()\n",
    "        \n",
    "        if j % 100 == 99:\n",
    "            print(f'[{i + 1}, {j + 1:5d}] loss: {running_loss/100:.5f}')\n",
    "            running_loss = 0\n",
    "\n",
    "print('Finished Training')"
   ]
  },
  {
   "cell_type": "code",
   "execution_count": 278,
   "id": "4c43bbce",
   "metadata": {},
   "outputs": [
    {
     "name": "stdout",
     "output_type": "stream",
     "text": [
      "Network accuracy = 25.223613595706617%\n"
     ]
    }
   ],
   "source": [
    "correct = 0\n",
    "total = 0\n",
    "\n",
    "for data in testingLoader:\n",
    "    images, labels = data\n",
    "    output = network(images)\n",
    "    _, predicted = torch.max(output.data, 1)\n",
    "    total += labels.size(0)\n",
    "    correct += (predicted == labels).sum().item()\n",
    "    \n",
    "print(f\"Network accuracy = {100 * (correct / total)}%\")"
   ]
  },
  {
   "cell_type": "code",
   "execution_count": null,
   "id": "32720d7d",
   "metadata": {},
   "outputs": [],
   "source": []
  }
 ],
 "metadata": {
  "kernelspec": {
   "display_name": "Python 3 (ipykernel)",
   "language": "python",
   "name": "python3"
  },
  "language_info": {
   "codemirror_mode": {
    "name": "ipython",
    "version": 3
   },
   "file_extension": ".py",
   "mimetype": "text/x-python",
   "name": "python",
   "nbconvert_exporter": "python",
   "pygments_lexer": "ipython3",
   "version": "3.11.4"
  }
 },
 "nbformat": 4,
 "nbformat_minor": 5
}
